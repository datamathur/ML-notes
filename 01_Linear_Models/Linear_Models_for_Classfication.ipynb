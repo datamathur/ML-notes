{
 "cells": [
  {
   "cell_type": "markdown",
   "metadata": {},
   "source": [
    "<h1 align='center'>Linear Models for Classification</h1>"
   ]
  },
  {
   "cell_type": "code",
   "execution_count": 1,
   "metadata": {},
   "outputs": [],
   "source": [
    "# Loading Libraries\n",
    "from utils import Metrics, Dataset\n",
    "from sklearn.linear_model import LogisticRegression, RidgeClassifier, SGDClassifier"
   ]
  },
  {
   "cell_type": "code",
   "execution_count": 2,
   "metadata": {},
   "outputs": [],
   "source": [
    "# Loading Dataset\n",
    "dataset = Dataset(classification=True, random_state=108, split_ratio=0.2)\n",
    "x_train, x_test, y_train, y_test = dataset.data()"
   ]
  },
  {
   "cell_type": "markdown",
   "metadata": {},
   "source": [
    "## Logistic Regression"
   ]
  },
  {
   "cell_type": "code",
   "execution_count": 3,
   "metadata": {},
   "outputs": [],
   "source": [
    "# Training Logistic Regression Model\n",
    "model1 = LogisticRegression(solver='liblinear')\n",
    "model1.fit(x_train, y_train)\n",
    "y_pred1 = model1.predict(x_test)"
   ]
  },
  {
   "cell_type": "code",
   "execution_count": 4,
   "metadata": {},
   "outputs": [
    {
     "name": "stdout",
     "output_type": "stream",
     "text": [
      "Accuracy: 0.9385964912280702 \n",
      "Precision: 0.9390179995443153 \n",
      "Recall: 0.9385964912280702 \n",
      "F1-Score: 0.9387316420177368\n"
     ]
    }
   ],
   "source": [
    "# Evaluating Model\n",
    "pred1 = Metrics(y_pred=y_pred1, y_true=y_test, classification=True)\n",
    "pred1.print_result()"
   ]
  },
  {
   "cell_type": "markdown",
   "metadata": {},
   "source": [
    "## Ridge Classifier"
   ]
  },
  {
   "cell_type": "code",
   "execution_count": 5,
   "metadata": {},
   "outputs": [],
   "source": [
    "# Training Ridge Classifier Model\n",
    "model2 = RidgeClassifier()\n",
    "model2.fit(x_train, y_train)\n",
    "y_pred2 = model2.predict(x_test)"
   ]
  },
  {
   "cell_type": "code",
   "execution_count": 6,
   "metadata": {},
   "outputs": [
    {
     "name": "stdout",
     "output_type": "stream",
     "text": [
      "Accuracy: 0.9649122807017544 \n",
      "Precision: 0.9667836257309942 \n",
      "Recall: 0.9649122807017544 \n",
      "F1-Score: 0.964537136359107\n"
     ]
    }
   ],
   "source": [
    "# Evaluating Model\n",
    "pred2 = Metrics(y_pred=y_pred2, y_true=y_test, classification=True)\n",
    "pred2.print_result()"
   ]
  },
  {
   "cell_type": "markdown",
   "metadata": {},
   "source": [
    "## SGD Classifier"
   ]
  },
  {
   "cell_type": "code",
   "execution_count": 7,
   "metadata": {},
   "outputs": [],
   "source": [
    "# Training Ridge Classifier Model\n",
    "model3 = SGDClassifier()\n",
    "model3.fit(x_train, y_train)\n",
    "y_pred3 = model3.predict(x_test)"
   ]
  },
  {
   "cell_type": "code",
   "execution_count": 8,
   "metadata": {},
   "outputs": [
    {
     "name": "stdout",
     "output_type": "stream",
     "text": [
      "Accuracy: 0.868421052631579 \n",
      "Precision: 0.8913708690330477 \n",
      "Recall: 0.868421052631579 \n",
      "F1-Score: 0.8608074865552685\n"
     ]
    }
   ],
   "source": [
    "# Evaluating Model\n",
    "pred3 = Metrics(y_pred=y_pred3, y_true=y_test, classification=True)\n",
    "pred3.print_result()"
   ]
  }
 ],
 "metadata": {
  "kernelspec": {
   "display_name": "Python 3",
   "language": "python",
   "name": "python3"
  },
  "language_info": {
   "codemirror_mode": {
    "name": "ipython",
    "version": 3
   },
   "file_extension": ".py",
   "mimetype": "text/x-python",
   "name": "python",
   "nbconvert_exporter": "python",
   "pygments_lexer": "ipython3",
   "version": "3.10.6"
  }
 },
 "nbformat": 4,
 "nbformat_minor": 2
}
