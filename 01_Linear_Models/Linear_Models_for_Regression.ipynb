{
 "cells": [
  {
   "cell_type": "markdown",
   "metadata": {},
   "source": [
    "<h1 align='center'>Linear Models for Regression</h1>"
   ]
  },
  {
   "cell_type": "code",
   "execution_count": 1,
   "metadata": {},
   "outputs": [],
   "source": [
    "# Loading Libraries\n",
    "from utils import Dataset, Metrics\n",
    "from sklearn.linear_model import LinearRegression, Ridge, Lasso, ElasticNet, Lars"
   ]
  },
  {
   "cell_type": "code",
   "execution_count": 2,
   "metadata": {},
   "outputs": [],
   "source": [
    "# Loading Dataset\n",
    "dataset = Dataset(classification=False, random_state=108, split_ratio=0.2)\n",
    "x_train, x_test, y_train, y_test = dataset.data()"
   ]
  },
  {
   "cell_type": "markdown",
   "metadata": {},
   "source": [
    "## Linear Regression"
   ]
  },
  {
   "cell_type": "code",
   "execution_count": 3,
   "metadata": {},
   "outputs": [],
   "source": [
    "# Training Linear Regression Model\n",
    "model1 = LinearRegression()\n",
    "model1.fit(x_train, y_train)\n",
    "y_pred1 = model1.predict(x_test)"
   ]
  },
  {
   "cell_type": "code",
   "execution_count": 4,
   "metadata": {},
   "outputs": [
    {
     "name": "stdout",
     "output_type": "stream",
     "text": [
      "R2 Score: 0.5951326918629856\n"
     ]
    }
   ],
   "source": [
    "# Evaluating Model\n",
    "pred1 = Metrics(y_pred=y_pred1, y_true=y_test, classification=False)\n",
    "pred1.print_result()"
   ]
  },
  {
   "cell_type": "markdown",
   "metadata": {},
   "source": [
    "## Lasso Regression"
   ]
  },
  {
   "cell_type": "code",
   "execution_count": 5,
   "metadata": {},
   "outputs": [],
   "source": [
    "# Training Lasso Regression Model\n",
    "model2 = Lasso()\n",
    "model2.fit(x_train, y_train)\n",
    "y_pred2 = model2.predict(x_test)"
   ]
  },
  {
   "cell_type": "code",
   "execution_count": 6,
   "metadata": {},
   "outputs": [
    {
     "name": "stdout",
     "output_type": "stream",
     "text": [
      "R2 Score: 0.3416445885309144\n"
     ]
    }
   ],
   "source": [
    "# Evaluating Model\n",
    "pred2 = Metrics(y_pred=y_pred2, y_true=y_test, classification=False)\n",
    "pred2.print_result()"
   ]
  },
  {
   "cell_type": "markdown",
   "metadata": {},
   "source": [
    "## Ridge Regression"
   ]
  },
  {
   "cell_type": "code",
   "execution_count": 7,
   "metadata": {},
   "outputs": [],
   "source": [
    "# Training Ridge Regression Model\n",
    "model3 = Ridge()\n",
    "model3.fit(x_train, y_train)\n",
    "y_pred3 = model3.predict(x_test)"
   ]
  },
  {
   "cell_type": "code",
   "execution_count": 8,
   "metadata": {},
   "outputs": [
    {
     "name": "stdout",
     "output_type": "stream",
     "text": [
      "R2 Score: 0.4292582364252079\n"
     ]
    }
   ],
   "source": [
    "# Evaluating Model\n",
    "pred3 = Metrics(y_pred=y_pred3, y_true=y_test, classification=False)\n",
    "pred3.print_result()"
   ]
  },
  {
   "cell_type": "markdown",
   "metadata": {},
   "source": [
    "## ElasticNet Regression"
   ]
  },
  {
   "cell_type": "code",
   "execution_count": 9,
   "metadata": {},
   "outputs": [],
   "source": [
    "# Training ElasticNet Regression Model\n",
    "model4 = ElasticNet()\n",
    "model4.fit(x_train, y_train)\n",
    "y_pred4 = model4.predict(x_test)"
   ]
  },
  {
   "cell_type": "code",
   "execution_count": 10,
   "metadata": {},
   "outputs": [
    {
     "name": "stdout",
     "output_type": "stream",
     "text": [
      "R2 Score: -0.0060206842662950955\n"
     ]
    }
   ],
   "source": [
    "# Evaluating Model\n",
    "pred4 = Metrics(y_pred=y_pred4, y_true=y_test, classification=False)\n",
    "pred4.print_result()"
   ]
  },
  {
   "cell_type": "markdown",
   "metadata": {},
   "source": [
    "## Lars Regression"
   ]
  },
  {
   "cell_type": "code",
   "execution_count": 11,
   "metadata": {},
   "outputs": [],
   "source": [
    "# Training Lars Regression Model\n",
    "model5 = Lars()\n",
    "model5.fit(x_train, y_train)\n",
    "y_pred5 = model5.predict(x_test)"
   ]
  },
  {
   "cell_type": "code",
   "execution_count": 12,
   "metadata": {},
   "outputs": [
    {
     "name": "stdout",
     "output_type": "stream",
     "text": [
      "R2 Score: 0.5951326918629851\n"
     ]
    }
   ],
   "source": [
    "# Evaluating Model\n",
    "pred5 = Metrics(y_pred=y_pred5, y_true=y_test, classification=False)\n",
    "pred5.print_result()"
   ]
  }
 ],
 "metadata": {
  "kernelspec": {
   "display_name": "Python 3",
   "language": "python",
   "name": "python3"
  },
  "language_info": {
   "codemirror_mode": {
    "name": "ipython",
    "version": 3
   },
   "file_extension": ".py",
   "mimetype": "text/x-python",
   "name": "python",
   "nbconvert_exporter": "python",
   "pygments_lexer": "ipython3",
   "version": "3.10.6"
  }
 },
 "nbformat": 4,
 "nbformat_minor": 2
}
