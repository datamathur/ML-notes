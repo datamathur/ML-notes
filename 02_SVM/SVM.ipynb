{
 "cells": [
  {
   "cell_type": "markdown",
   "metadata": {},
   "source": [
    "<h1 align='center'>Support Vector Machines</h1>"
   ]
  },
  {
   "cell_type": "code",
   "execution_count": 1,
   "metadata": {},
   "outputs": [],
   "source": [
    "from utils import Dataset, Metrics\n",
    "from sklearn.svm import SVC, SVR"
   ]
  },
  {
   "cell_type": "markdown",
   "metadata": {},
   "source": [
    "## Regression"
   ]
  },
  {
   "cell_type": "code",
   "execution_count": 3,
   "metadata": {},
   "outputs": [],
   "source": [
    "dataset1 = Dataset(classification=False, split_ratio=0.2, random_state=108)\n",
    "x_train, x_test, y_train, y_test = dataset1.data()\n",
    "svr = SVR()\n",
    "svr.fit(x_train, y_train)\n",
    "y_pred1 = svr.predict(x_test)"
   ]
  },
  {
   "cell_type": "code",
   "execution_count": 4,
   "metadata": {},
   "outputs": [
    {
     "name": "stdout",
     "output_type": "stream",
     "text": [
      "R2 Score: 0.1286776258571216\n"
     ]
    }
   ],
   "source": [
    "pred1 = Metrics(y_pred=y_pred1, y_true=y_test, classification=False, average='weighted')\n",
    "pred1.print_result()"
   ]
  },
  {
   "cell_type": "markdown",
   "metadata": {},
   "source": [
    "## Classification"
   ]
  },
  {
   "cell_type": "code",
   "execution_count": 5,
   "metadata": {},
   "outputs": [],
   "source": [
    "dataset2 = Dataset(classification=True, split_ratio=0.2, random_state=108)\n",
    "x_train, x_test, y_train, y_test = dataset2.data()\n",
    "svc = SVC()\n",
    "svc.fit(x_train, y_train)\n",
    "y_pred2 = svc.predict(x_test)"
   ]
  },
  {
   "cell_type": "code",
   "execution_count": 7,
   "metadata": {},
   "outputs": [
    {
     "name": "stdout",
     "output_type": "stream",
     "text": [
      "Accuracy: 0.9122807017543859 \n",
      "Precision: 0.918270359442911 \n",
      "Recall: 0.9122807017543859 \n",
      "F1-Score: 0.9101214574898786\n"
     ]
    }
   ],
   "source": [
    "pred2 = Metrics(y_pred=y_pred2, y_true=y_test, classification=True, average='weighted')\n",
    "pred2.print_result()"
   ]
  }
 ],
 "metadata": {
  "kernelspec": {
   "display_name": "Python 3",
   "language": "python",
   "name": "python3"
  },
  "language_info": {
   "codemirror_mode": {
    "name": "ipython",
    "version": 3
   },
   "file_extension": ".py",
   "mimetype": "text/x-python",
   "name": "python",
   "nbconvert_exporter": "python",
   "pygments_lexer": "ipython3",
   "version": "3.10.6"
  }
 },
 "nbformat": 4,
 "nbformat_minor": 2
}
